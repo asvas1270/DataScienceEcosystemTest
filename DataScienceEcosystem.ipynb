{
 "cells": [
  {
   "cell_type": "markdown",
   "id": "d7cd9101-eaa5-4ba1-bf72-491deaeb575a",
   "metadata": {},
   "source": [
    "# Data Science Tools and Ecosystem"
   ]
  },
  {
   "cell_type": "markdown",
   "id": "51b21dd6-fcc9-4aee-b4a1-70ff6dbdcae2",
   "metadata": {},
   "source": [
    "In this notebook, Data Science Tools and Ecosystem are summarized."
   ]
  },
  {
   "cell_type": "markdown",
   "id": "ae2f7060-c9ce-4677-897d-e3937bf4e5ff",
   "metadata": {},
   "source": [
    "Some of the popular languages that Data Scientists use are:\n",
    "1. Python\n",
    "2. R\n",
    "3. Julia\n",
    "4. Scala\n",
    "\n"
   ]
  },
  {
   "cell_type": "markdown",
   "id": "513b6e7d-4c22-40c5-846f-7b4b30f4a764",
   "metadata": {},
   "source": [
    "Some of the commonly used libraries used by Data Scientists include:\n",
    "* Pandas\n",
    "* NumPy\n",
    "* SciPy\n",
    "* Matplotlib\n",
    "* Tensorflow\n",
    "* PyTorch\n",
    "* Plotly"
   ]
  },
  {
   "cell_type": "markdown",
   "id": "f8817b19-e8d6-4600-a432-63421364e87d",
   "metadata": {},
   "source": [
    "|Data Science Tools|\n",
    "|----|\n",
    "|Jupytor|\n",
    "|RStudio|\n",
    "|Spark|"
   ]
  },
  {
   "cell_type": "markdown",
   "id": "37327655-62d2-4f72-8011-878d2df798f3",
   "metadata": {},
   "source": [
    "### Below are a few examples of evaluating arithmetic expressions in Python\n",
    "a=100\n",
    "b=120\n",
    "c=a+b\n"
   ]
  },
  {
   "cell_type": "code",
   "execution_count": 2,
   "id": "5a543fe4-a5ec-4a86-a636-44c72edf747f",
   "metadata": {
    "tags": []
   },
   "outputs": [
    {
     "name": "stdout",
     "output_type": "stream",
     "text": [
      "17\n"
     ]
    }
   ],
   "source": [
    "# This a simple arithmetic expression to mutiply then add integers\n",
    "result = (3*4)+5\n",
    "print(result)"
   ]
  },
  {
   "cell_type": "code",
   "execution_count": 4,
   "id": "93a44d78-b0ca-422a-8efb-1a8866823d09",
   "metadata": {
    "tags": []
   },
   "outputs": [
    {
     "name": "stdout",
     "output_type": "stream",
     "text": [
      "3.3333333333333335\n"
     ]
    }
   ],
   "source": [
    "# This will convert 200 minutes to hours by diving by 60\n",
    "hours = 200/60\n",
    "print(hours)"
   ]
  },
  {
   "cell_type": "markdown",
   "id": "3defb773-754a-46d5-a352-0d5742f104d7",
   "metadata": {},
   "source": [
    "**Objectives:**\n",
    "* List of popular languages used by Data scientists\n",
    "* List of commonly used libraries\n",
    "* Arithmetic expressions\n",
    "* Creating a table with list of data science tools"
   ]
  },
  {
   "cell_type": "markdown",
   "id": "a395d37f-25f6-4a6c-a2d6-316b52c4ebac",
   "metadata": {
    "tags": []
   },
   "source": [
    "## Author\n",
    "Srinivas Aleti"
   ]
  },
  {
   "cell_type": "code",
   "execution_count": null,
   "id": "2f1f113b-445f-4555-ba93-aec54df4ad6a",
   "metadata": {},
   "outputs": [],
   "source": []
  }
 ],
 "metadata": {
  "kernelspec": {
   "display_name": "Python 3 (ipykernel)",
   "language": "python",
   "name": "python3"
  },
  "language_info": {
   "codemirror_mode": {
    "name": "ipython",
    "version": 3
   },
   "file_extension": ".py",
   "mimetype": "text/x-python",
   "name": "python",
   "nbconvert_exporter": "python",
   "pygments_lexer": "ipython3",
   "version": "3.11.5"
  }
 },
 "nbformat": 4,
 "nbformat_minor": 5
}
